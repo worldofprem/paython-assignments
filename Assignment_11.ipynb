{
 "cells": [
  {
   "cell_type": "markdown",
   "id": "73c70deb",
   "metadata": {},
   "source": [
    "Q1. Create an assert statement that throws an AssertionError if the variable spam is a negative integer."
   ]
  },
  {
   "cell_type": "code",
   "execution_count": 7,
   "id": "702b8801",
   "metadata": {},
   "outputs": [
    {
     "name": "stdout",
     "output_type": "stream",
     "text": [
      " enter a number :-3\n"
     ]
    },
    {
     "ename": "AssertionError",
     "evalue": "",
     "output_type": "error",
     "traceback": [
      "\u001b[1;31m---------------------------------------------------------------------------\u001b[0m",
      "\u001b[1;31mAssertionError\u001b[0m                            Traceback (most recent call last)",
      "\u001b[1;32m~\\AppData\\Local\\Temp/ipykernel_16400/90518056.py\u001b[0m in \u001b[0;36m<module>\u001b[1;34m\u001b[0m\n\u001b[0;32m      2\u001b[0m \u001b[1;33m\u001b[0m\u001b[0m\n\u001b[0;32m      3\u001b[0m \u001b[0mspam\u001b[0m \u001b[1;33m=\u001b[0m \u001b[0mpyip\u001b[0m\u001b[1;33m.\u001b[0m\u001b[0minputNum\u001b[0m\u001b[1;33m(\u001b[0m\u001b[1;34m\" enter a number :\"\u001b[0m\u001b[1;33m)\u001b[0m\u001b[1;33m\u001b[0m\u001b[1;33m\u001b[0m\u001b[0m\n\u001b[1;32m----> 4\u001b[1;33m \u001b[1;32massert\u001b[0m \u001b[0mspam\u001b[0m \u001b[1;33m>\u001b[0m \u001b[1;36m0\u001b[0m\u001b[1;33m\u001b[0m\u001b[1;33m\u001b[0m\u001b[0m\n\u001b[0m\u001b[0;32m      5\u001b[0m \u001b[0mprint\u001b[0m\u001b[1;33m(\u001b[0m\u001b[0mspam\u001b[0m\u001b[1;33m,\u001b[0m\u001b[1;34m'is a positive number'\u001b[0m\u001b[1;33m)\u001b[0m\u001b[1;33m\u001b[0m\u001b[1;33m\u001b[0m\u001b[0m\n",
      "\u001b[1;31mAssertionError\u001b[0m: "
     ]
    }
   ],
   "source": [
    "import pyinputplus as pyip\n",
    "\n",
    "spam = pyip.inputNum(\" enter a number :\")\n",
    "assert spam > 0\n",
    "print(spam,'is a positive number')"
   ]
  },
  {
   "cell_type": "markdown",
   "id": "5872b8bb",
   "metadata": {},
   "source": []
  },
  {
   "cell_type": "markdown",
   "id": "2e25cdca",
   "metadata": {},
   "source": [
    "Q2\n",
    "Write an assert statement that triggers an AssertionError if the variables eggs and bacon contain strings that are the same as each other, even if their cases are different (that is, 'hello' and 'hello' are considered the same, and 'goodbye' and 'GOODbye' are also considered the same)"
   ]
  },
  {
   "cell_type": "code",
   "execution_count": 9,
   "id": "1f24f0ef",
   "metadata": {},
   "outputs": [
    {
     "ename": "AttributeError",
     "evalue": "'str' object has no attribute 'uper'",
     "output_type": "error",
     "traceback": [
      "\u001b[1;31m---------------------------------------------------------------------------\u001b[0m",
      "\u001b[1;31mAttributeError\u001b[0m                            Traceback (most recent call last)",
      "\u001b[1;32m~\\AppData\\Local\\Temp/ipykernel_16400/1922044953.py\u001b[0m in \u001b[0;36m<module>\u001b[1;34m\u001b[0m\n\u001b[0;32m      2\u001b[0m \u001b[0mbacon\u001b[0m \u001b[1;33m=\u001b[0m \u001b[1;34m'hello'\u001b[0m\u001b[1;33m\u001b[0m\u001b[1;33m\u001b[0m\u001b[0m\n\u001b[0;32m      3\u001b[0m \u001b[1;33m\u001b[0m\u001b[0m\n\u001b[1;32m----> 4\u001b[1;33m \u001b[1;32massert\u001b[0m \u001b[0meggs\u001b[0m\u001b[1;33m.\u001b[0m\u001b[0mlower\u001b[0m\u001b[1;33m(\u001b[0m\u001b[1;33m)\u001b[0m \u001b[1;33m!=\u001b[0m\u001b[0mbacon\u001b[0m\u001b[1;33m.\u001b[0m\u001b[0mlower\u001b[0m\u001b[1;33m(\u001b[0m\u001b[1;33m)\u001b[0m \u001b[1;32mor\u001b[0m \u001b[0meggs\u001b[0m\u001b[1;33m.\u001b[0m\u001b[0muper\u001b[0m\u001b[1;33m(\u001b[0m\u001b[1;33m)\u001b[0m \u001b[1;33m!=\u001b[0m \u001b[0mbacon\u001b[0m\u001b[1;33m.\u001b[0m\u001b[0mupper\u001b[0m\u001b[1;33m(\u001b[0m\u001b[1;33m)\u001b[0m\u001b[1;33m\u001b[0m\u001b[1;33m\u001b[0m\u001b[0m\n\u001b[0m\u001b[0;32m      5\u001b[0m \u001b[0mprint\u001b[0m\u001b[1;33m(\u001b[0m\u001b[1;34m\"the eggs and bacon variables are not the same\"\u001b[0m\u001b[1;33m)\u001b[0m\u001b[1;33m\u001b[0m\u001b[1;33m\u001b[0m\u001b[0m\n",
      "\u001b[1;31mAttributeError\u001b[0m: 'str' object has no attribute 'uper'"
     ]
    }
   ],
   "source": [
    "eggs = 'Hello'\n",
    "bacon = 'hello'\n",
    "\n",
    "assert eggs.lower() !=bacon.lower() or eggs.uper() != bacon.upper()\n",
    "print(\"the eggs and bacon variables are not the same\")"
   ]
  },
  {
   "cell_type": "markdown",
   "id": "ddb1c9aa",
   "metadata": {},
   "source": []
  },
  {
   "cell_type": "markdown",
   "id": "b952e4de",
   "metadata": {},
   "source": [
    "Q3. Create an assert statement that throws an AssertionError every time."
   ]
  },
  {
   "cell_type": "code",
   "execution_count": 10,
   "id": "7c812356",
   "metadata": {},
   "outputs": [
    {
     "ename": "AssertionError",
     "evalue": "",
     "output_type": "error",
     "traceback": [
      "\u001b[1;31m---------------------------------------------------------------------------\u001b[0m",
      "\u001b[1;31mAssertionError\u001b[0m                            Traceback (most recent call last)",
      "\u001b[1;32m~\\AppData\\Local\\Temp/ipykernel_16400/2103537015.py\u001b[0m in \u001b[0;36m<module>\u001b[1;34m\u001b[0m\n\u001b[1;32m----> 1\u001b[1;33m \u001b[1;32massert\u001b[0m \u001b[1;32mFalse\u001b[0m\u001b[1;33m\u001b[0m\u001b[1;33m\u001b[0m\u001b[0m\n\u001b[0m",
      "\u001b[1;31mAssertionError\u001b[0m: "
     ]
    }
   ],
   "source": [
    "assert False"
   ]
  },
  {
   "cell_type": "markdown",
   "id": "d3bae8ea",
   "metadata": {},
   "source": []
  },
  {
   "cell_type": "markdown",
   "id": "eec43b2d",
   "metadata": {},
   "source": [
    "Q4. What are the two lines that must be present in your software in order to call logging.debug()?"
   ]
  },
  {
   "cell_type": "code",
   "execution_count": 15,
   "id": "463bffcf",
   "metadata": {},
   "outputs": [
    {
     "data": {
      "text/plain": [
       "'\\nFormat contain:\\n    asctime --> Current time \\n    levelname --> type of logging\\n    message --> the msg you want to display '"
      ]
     },
     "execution_count": 15,
     "metadata": {},
     "output_type": "execute_result"
    }
   ],
   "source": [
    "import logging as lg\n",
    "lg.basicConfig(level=lg.DEBUG, format= '%(asctime)s - %(levelname)s - %(message)s ')\n",
    "'''\n",
    "Format contain:\n",
    "    asctime --> Current time \n",
    "    levelname --> type of logging\n",
    "    message --> the msg you want to display '''"
   ]
  },
  {
   "cell_type": "markdown",
   "id": "724e2dad",
   "metadata": {},
   "source": []
  },
  {
   "cell_type": "markdown",
   "id": "d86ad58d",
   "metadata": {},
   "source": [
    "Q5. What are the two lines that your program must have in order to have logging.debug() send a logging message to a file named programLog.txt?"
   ]
  },
  {
   "cell_type": "code",
   "execution_count": 23,
   "id": "e28865fa",
   "metadata": {},
   "outputs": [],
   "source": [
    "import logging as lg\n",
    "lg.basicConfig(filename='programLog.txt', level=lg.DEBUG, format=' %(asctime)s - %(levelname)s - %(message)s')"
   ]
  },
  {
   "cell_type": "markdown",
   "id": "f6f45489",
   "metadata": {},
   "source": []
  },
  {
   "cell_type": "markdown",
   "id": "ad32309f",
   "metadata": {},
   "source": [
    "Q6. What are the five levels of logging?"
   ]
  },
  {
   "cell_type": "markdown",
   "id": "ed408943",
   "metadata": {},
   "source": [
    "Ans:- Five level of loggins are DEBUG , INFO, WARNING, ERROR, and CRICTICAL\n",
    "\n",
    "logging.debug() - variable's state and small details\n",
    "\n",
    "logging.info() - general events, confirm a progarm is working\n",
    "\n",
    "logging.warning() - potential problem to work on in the future\n",
    "\n",
    "logging.error() - record an error that caused program to fail to do something \n",
    "\n",
    "logging.critical() - fatal error that has caused\n"
   ]
  },
  {
   "cell_type": "markdown",
   "id": "de3bd7d7",
   "metadata": {},
   "source": []
  },
  {
   "cell_type": "markdown",
   "id": "a5fd0348",
   "metadata": {},
   "source": [
    "Q7. What line of code would you add to your software to disable all logging messages?"
   ]
  },
  {
   "cell_type": "code",
   "execution_count": null,
   "id": "493489ba",
   "metadata": {},
   "outputs": [],
   "source": [
    "import logging as lg\n",
    "lg.disable(lg.CRITIAL)"
   ]
  },
  {
   "cell_type": "markdown",
   "id": "cb045d63",
   "metadata": {},
   "source": []
  },
  {
   "cell_type": "markdown",
   "id": "f2305151",
   "metadata": {},
   "source": [
    "Q8. Why is using logging messages better than using print() to display the same message?"
   ]
  },
  {
   "cell_type": "markdown",
   "id": "166955b7",
   "metadata": {},
   "source": [
    "Ans:- you can disable logging messages without removing the logging function calls.\n",
    "\n",
    "you can selectiveoy disable lower-level logging messages.\n",
    "\n",
    "you can create logging message. logging messages provides a timestamp."
   ]
  },
  {
   "cell_type": "markdown",
   "id": "cfe88c7a",
   "metadata": {},
   "source": []
  },
  {
   "cell_type": "markdown",
   "id": "bfcc4df4",
   "metadata": {},
   "source": [
    "Q9. What are the differences between the Step Over, Step In, and Step Out buttons in the debugger?"
   ]
  },
  {
   "cell_type": "markdown",
   "id": "b6f328c8",
   "metadata": {},
   "source": [
    "Ans:- the step in button will move the debugger into a function call. \n",
    "\n",
    "The over button will quickly execute the function call without stepping out into it. \n",
    "\n",
    "The out button will quickly execute the rest of the code until it steps out of the function it currently is in."
   ]
  },
  {
   "cell_type": "markdown",
   "id": "628f48ad",
   "metadata": {},
   "source": []
  },
  {
   "cell_type": "markdown",
   "id": "d8f1c573",
   "metadata": {},
   "source": [
    "Q10. After you click Continue, when will the debugger stop ?"
   ]
  },
  {
   "cell_type": "markdown",
   "id": "e3eff758",
   "metadata": {},
   "source": [
    "Ans. It will stop at the next breakpoint.\n",
    "If the breakpoint is not present within the code; it will execute the whole program."
   ]
  },
  {
   "cell_type": "markdown",
   "id": "5b147549",
   "metadata": {},
   "source": []
  },
  {
   "cell_type": "markdown",
   "id": "aa29e964",
   "metadata": {},
   "source": [
    "Q11. What is the concept of a breakpoint?"
   ]
  },
  {
   "cell_type": "markdown",
   "id": "31186893",
   "metadata": {},
   "source": [
    "Ans. Breakpoint is used to interrupt the running program immediately before the implementation of specified instruction.\n"
   ]
  },
  {
   "cell_type": "code",
   "execution_count": null,
   "id": "0c3e8b5f",
   "metadata": {},
   "outputs": [],
   "source": []
  }
 ],
 "metadata": {
  "kernelspec": {
   "display_name": "Python 3 (ipykernel)",
   "language": "python",
   "name": "python3"
  },
  "language_info": {
   "codemirror_mode": {
    "name": "ipython",
    "version": 3
   },
   "file_extension": ".py",
   "mimetype": "text/x-python",
   "name": "python",
   "nbconvert_exporter": "python",
   "pygments_lexer": "ipython3",
   "version": "3.9.7"
  }
 },
 "nbformat": 4,
 "nbformat_minor": 5
}
