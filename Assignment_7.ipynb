{
 "cells": [
  {
   "cell_type": "markdown",
   "id": "89f524a0",
   "metadata": {},
   "source": [
    "Q1. What is the name of the feature responsible for generating Regex objects?"
   ]
  },
  {
   "cell_type": "code",
   "execution_count": 2,
   "id": "7928432f",
   "metadata": {},
   "outputs": [
    {
     "data": {
      "text/plain": [
       "re.compile(r'string', re.UNICODE)"
      ]
     },
     "execution_count": 2,
     "metadata": {},
     "output_type": "execute_result"
    }
   ],
   "source": [
    "import re\n",
    "re.compile(\"string\")\n",
    "#The re.compile() function returns Regex objects."
   ]
  },
  {
   "cell_type": "markdown",
   "id": "a7a1b959",
   "metadata": {},
   "source": []
  },
  {
   "cell_type": "markdown",
   "id": "6d8cfaa1",
   "metadata": {},
   "source": [
    "Q2. Why do raw strings often appear in Regex objects?\n",
    "Ans:- Raw strings are used so that blackslashes do not have to be escaped"
   ]
  },
  {
   "cell_type": "markdown",
   "id": "6237b7ef",
   "metadata": {},
   "source": []
  },
  {
   "cell_type": "markdown",
   "id": "aa065858",
   "metadata": {},
   "source": [
    "Q3. What is the return value of the search() method ?"
   ]
  },
  {
   "cell_type": "markdown",
   "id": "85a6da59",
   "metadata": {},
   "source": [
    "Ans:- The search() method searches a string for a specified value, and returns the position of the match. The search value can be string or a regular expression. This method returns \n",
    "-1 if no match is found"
   ]
  },
  {
   "cell_type": "markdown",
   "id": "6ad3fba2",
   "metadata": {},
   "source": []
  },
  {
   "cell_type": "markdown",
   "id": "9bb3bab7",
   "metadata": {},
   "source": [
    "Q4. From a Match item, how do you get the actual strings that match the pattern?"
   ]
  },
  {
   "cell_type": "code",
   "execution_count": 8,
   "id": "aa52891d",
   "metadata": {},
   "outputs": [
    {
     "name": "stdout",
     "output_type": "stream",
     "text": [
      "phone number is:345-244-5673\n"
     ]
    }
   ],
   "source": [
    "phoneNumregex = re.compile(r'\\d\\d\\d-\\d\\d\\d-\\d\\d\\d\\d')\n",
    "mo = phoneNumregex.search('my number is 345-244-5673.')\n",
    "print('phone number is:' + mo.group())"
   ]
  },
  {
   "cell_type": "markdown",
   "id": "9319b950",
   "metadata": {},
   "source": []
  },
  {
   "cell_type": "markdown",
   "id": "1abb52c5",
   "metadata": {},
   "source": [
    "Q5. In the regex which created from the r'(\\d\\d\\d)-(\\d\\d\\d-\\d\\d\\d\\d)', what does group zero cover? Group 2? Group 1?"
   ]
  },
  {
   "cell_type": "code",
   "execution_count": 9,
   "id": "4c4ec1eb",
   "metadata": {},
   "outputs": [
    {
     "data": {
      "text/plain": [
       "'346'"
      ]
     },
     "execution_count": 9,
     "metadata": {},
     "output_type": "execute_result"
    }
   ],
   "source": [
    "phonenumregex = re.compile(r'(\\d\\d\\d)-(\\d\\d\\d-\\d\\d\\d\\d)')\n",
    "mo = phonenumregex.search('My number is 346-444-4544')\n",
    "mo.group(1)"
   ]
  },
  {
   "cell_type": "code",
   "execution_count": 10,
   "id": "7abd6008",
   "metadata": {},
   "outputs": [
    {
     "data": {
      "text/plain": [
       "'444-4544'"
      ]
     },
     "execution_count": 10,
     "metadata": {},
     "output_type": "execute_result"
    }
   ],
   "source": [
    "mo.group(2)"
   ]
  },
  {
   "cell_type": "code",
   "execution_count": 12,
   "id": "46c83b0e",
   "metadata": {},
   "outputs": [
    {
     "data": {
      "text/plain": [
       "'346-444-4544'"
      ]
     },
     "execution_count": 12,
     "metadata": {},
     "output_type": "execute_result"
    }
   ],
   "source": [
    "mo.group(0)"
   ]
  },
  {
   "cell_type": "markdown",
   "id": "98e7e23e",
   "metadata": {},
   "source": []
  },
  {
   "cell_type": "markdown",
   "id": "3c13eb83",
   "metadata": {},
   "source": [
    "Q6. In standard expression syntax, parentheses and intervals have distinct meanings. How can you tell a regex that you want it to fit real parentheses and periods?"
   ]
  },
  {
   "cell_type": "markdown",
   "id": "6a28bc9c",
   "metadata": {},
   "source": [
    "Ans:- Periods and parentheses can be escaped with a backslash :., (.and). "
   ]
  },
  {
   "cell_type": "markdown",
   "id": "2018d750",
   "metadata": {},
   "source": []
  },
  {
   "cell_type": "markdown",
   "id": "13d141fe",
   "metadata": {},
   "source": [
    "Q7. The findall() method returns a string list or a list of string tuples. What causes it to return one of the two options?"
   ]
  },
  {
   "cell_type": "markdown",
   "id": "37b74924",
   "metadata": {},
   "source": [
    "Ans:- if the regex has no groups , a list of strings is returned. if the regex has groups, a list of tuples of strings is returned.\n"
   ]
  },
  {
   "cell_type": "markdown",
   "id": "83f4acf3",
   "metadata": {},
   "source": []
  },
  {
   "cell_type": "markdown",
   "id": "613bf4f0",
   "metadata": {},
   "source": [
    "Q8. In standard expressions, what does the | character mean?"
   ]
  },
  {
   "cell_type": "markdown",
   "id": "31853e3b",
   "metadata": {},
   "source": [
    "Ans:- The | character is called a pipe. You can use it anywhere you want to match one of many expressions. For example, the regular expression r'Cricket|Soccer Sports' will match either 'Cricket' or 'Soccer Sports'. \n",
    "\n",
    "When both Cricket and Soccer Sports occur in the searched string, the first occurrence of matching text first occyrrence of matching text will be returned as the Match object.\n",
    "\n",
    "The | character signifies matching \"either, or\" between two groups\n"
   ]
  },
  {
   "cell_type": "code",
   "execution_count": 27,
   "id": "1016cddc",
   "metadata": {},
   "outputs": [
    {
     "data": {
      "text/plain": [
       "'Cricket'"
      ]
     },
     "execution_count": 27,
     "metadata": {},
     "output_type": "execute_result"
    }
   ],
   "source": [
    "SportRegex = re.compile (r'Cricket|Soccer Sport')\n",
    "s1 = SportRegex.search('Cricket and Soccer Sport')\n",
    "s1.group()"
   ]
  },
  {
   "cell_type": "code",
   "execution_count": 28,
   "id": "188ffbe0",
   "metadata": {},
   "outputs": [
    {
     "data": {
      "text/plain": [
       "'Soccer Sport'"
      ]
     },
     "execution_count": 28,
     "metadata": {},
     "output_type": "execute_result"
    }
   ],
   "source": [
    "s2 = sportregex.search('Soccer Sports and Cricket')\n",
    "s2.group()"
   ]
  },
  {
   "cell_type": "markdown",
   "id": "74a537b9",
   "metadata": {},
   "source": []
  },
  {
   "cell_type": "markdown",
   "id": "ac760fcd",
   "metadata": {},
   "source": [
    "Q9. In regular expressions, what does the ? character stand for?"
   ]
  },
  {
   "cell_type": "markdown",
   "id": "8bf55347",
   "metadata": {},
   "source": [
    "Ans:- The ? character can either mean \"match zero or one of the preceding group\".\n"
   ]
  },
  {
   "cell_type": "code",
   "execution_count": 29,
   "id": "1293c833",
   "metadata": {},
   "outputs": [
    {
     "data": {
      "text/plain": [
       "'batman'"
      ]
     },
     "execution_count": 29,
     "metadata": {},
     "output_type": "execute_result"
    }
   ],
   "source": [
    "batregex = re.compile(r'bat(wo)?man')\n",
    "mo1 = batregex.search('The adventures of batman')\n",
    "mo1.group()"
   ]
  },
  {
   "cell_type": "code",
   "execution_count": 30,
   "id": "8bb21435",
   "metadata": {},
   "outputs": [
    {
     "data": {
      "text/plain": [
       "'batwoman'"
      ]
     },
     "execution_count": 30,
     "metadata": {},
     "output_type": "execute_result"
    }
   ],
   "source": [
    "mo2 = batregex.search('the advenctures of batwoman')\n",
    "mo2.group()"
   ]
  },
  {
   "cell_type": "markdown",
   "id": "30b4fc8f",
   "metadata": {},
   "source": []
  },
  {
   "cell_type": "markdown",
   "id": "17e3b9b0",
   "metadata": {},
   "source": [
    "Q10. In regular expressions, what is the difference between the + and * characters?"
   ]
  },
  {
   "cell_type": "markdown",
   "id": "5c00e537",
   "metadata": {},
   "source": [
    "Ans:- The + matches one or more. The * matches zero or more\n"
   ]
  },
  {
   "cell_type": "markdown",
   "id": "49123487",
   "metadata": {},
   "source": []
  },
  {
   "cell_type": "markdown",
   "id": "52ae9259",
   "metadata": {},
   "source": [
    "Q11. What is the difference between {4} and {4,5} in regular expression?"
   ]
  },
  {
   "cell_type": "markdown",
   "id": "cc5347c5",
   "metadata": {},
   "source": [
    "Ans:- the {4} matches exactly four instances of the preceding group.\n",
    "\n",
    "The {4,5} matches between four and five instances"
   ]
  },
  {
   "cell_type": "markdown",
   "id": "c90ec335",
   "metadata": {},
   "source": []
  },
  {
   "cell_type": "markdown",
   "id": "3f0d5c17",
   "metadata": {},
   "source": [
    "Q12. What do you mean by the \\d, \\w, and \\s shorthand character classes signify in regular expressions?"
   ]
  },
  {
   "cell_type": "markdown",
   "id": "113121a0",
   "metadata": {},
   "source": [
    "Ans:- the \\d, stands for single digit, Any numeric digit from 0 to 9 . \\w , stands for single word, Any letter, numeric digit, or the underscore character. (think of this as matching \"word\" characters).  \\s, stands for single space character , any space , tab , or newline character. (think of this as matching  \"space\" characters).\n"
   ]
  },
  {
   "cell_type": "markdown",
   "id": "5b6454de",
   "metadata": {},
   "source": []
  },
  {
   "cell_type": "markdown",
   "id": "3eb8b50c",
   "metadata": {},
   "source": [
    "Q13. What do means by \\D, \\W, and \\S shorthand character classes signify in regular expressions?"
   ]
  },
  {
   "cell_type": "markdown",
   "id": "c0086b0b",
   "metadata": {},
   "source": [
    "Ans. \\D - > Any character that is not a numeric digit from 0 to 9.\n",
    "\\W - > Any character that is not a letter, numeric digit, or the underscore character.\n",
    "\\S - > Any character that is not a space, tab, or newline."
   ]
  },
  {
   "cell_type": "markdown",
   "id": "1b9eefe4",
   "metadata": {},
   "source": []
  },
  {
   "cell_type": "markdown",
   "id": "f8c29b2a",
   "metadata": {},
   "source": [
    "Q14. What is the difference between .* and .*?"
   ]
  },
  {
   "cell_type": "markdown",
   "id": "da5b1694",
   "metadata": {},
   "source": [
    "Ans:- the dot star uses greedy mode: it will always try to match as much text as possible.\n",
    ".* - To match any and all text in a non greedy fashion, use the dot, star, and question mark tells Python to match in a non-greedy way.\n"
   ]
  },
  {
   "cell_type": "code",
   "execution_count": 36,
   "id": "06e8ca8c",
   "metadata": {},
   "outputs": [
    {
     "data": {
      "text/plain": [
       "'<to serve man> for dinner.>'"
      ]
     },
     "execution_count": 36,
     "metadata": {},
     "output_type": "execute_result"
    }
   ],
   "source": [
    "greedyrgx = re.compile(r'<.*>')\n",
    "mo = greedyrgx.search('<to serve man> for dinner.>')\n",
    "mo.group()"
   ]
  },
  {
   "cell_type": "code",
   "execution_count": 39,
   "id": "b44002c0",
   "metadata": {},
   "outputs": [
    {
     "data": {
      "text/plain": [
       "'<to serve man>'"
      ]
     },
     "execution_count": 39,
     "metadata": {},
     "output_type": "execute_result"
    }
   ],
   "source": [
    "nongreedyrgx = re.compile(r'<.*?>')\n",
    "mo = nongreedyrgx.search('<to serve man> for dinner >')\n",
    "mo.group()"
   ]
  },
  {
   "cell_type": "markdown",
   "id": "80fb055e",
   "metadata": {},
   "source": []
  },
  {
   "cell_type": "markdown",
   "id": "8de3b585",
   "metadata": {},
   "source": [
    "Q15. What is the syntax for matching both numbers and lowercase letters with a character class?"
   ]
  },
  {
   "cell_type": "markdown",
   "id": "5849eb00",
   "metadata": {},
   "source": [
    "Ans:- Either [0-9a-z] or [a-z0-9]"
   ]
  },
  {
   "cell_type": "code",
   "execution_count": 40,
   "id": "a8588321",
   "metadata": {},
   "outputs": [
    {
     "data": {
      "text/plain": [
       "'1'"
      ]
     },
     "execution_count": 40,
     "metadata": {},
     "output_type": "execute_result"
    }
   ],
   "source": [
    "reg1 = re.compile(r'[0-9a-z]')\n",
    "reg2 = re.compile(r'[a-z0-9]')\n",
    "\n",
    "mo1 = reg1.search('100 times i am reading this for 100th time')\n",
    "mo1.group()"
   ]
  },
  {
   "cell_type": "code",
   "execution_count": 41,
   "id": "731b422c",
   "metadata": {},
   "outputs": [
    {
     "data": {
      "text/plain": [
       "'t'"
      ]
     },
     "execution_count": 41,
     "metadata": {},
     "output_type": "execute_result"
    }
   ],
   "source": [
    "reg2 = re.compile(r'[a-z0-9]')\n",
    "\n",
    "mo1 = reg2.search('times I am Reading this for 100th time')\n",
    "mo1.group()"
   ]
  },
  {
   "cell_type": "markdown",
   "id": "7e3adfd9",
   "metadata": {},
   "source": []
  },
  {
   "cell_type": "markdown",
   "id": "2b14c72f",
   "metadata": {},
   "source": [
    "Q16. What is the procedure for making a normal expression in regax case insensitive?"
   ]
  },
  {
   "cell_type": "markdown",
   "id": "21283227",
   "metadata": {},
   "source": [
    "Ans:- Passing re.I or re.IGNORECASE as the second argument to re.compile() will make the matching case insensitive"
   ]
  },
  {
   "cell_type": "code",
   "execution_count": 42,
   "id": "8c7c5b61",
   "metadata": {},
   "outputs": [
    {
     "data": {
      "text/plain": [
       "'machine'"
      ]
     },
     "execution_count": 42,
     "metadata": {},
     "output_type": "execute_result"
    }
   ],
   "source": [
    "casesen = re.compile(r'machine', re.I)\n",
    "casesen.search('machine learning is a part of data science').group()"
   ]
  },
  {
   "cell_type": "code",
   "execution_count": 43,
   "id": "8dcf6f05",
   "metadata": {},
   "outputs": [
    {
     "data": {
      "text/plain": [
       "'machine'"
      ]
     },
     "execution_count": 43,
     "metadata": {},
     "output_type": "execute_result"
    }
   ],
   "source": [
    "casesen.search('machine is learning').group()"
   ]
  },
  {
   "cell_type": "markdown",
   "id": "41a7b025",
   "metadata": {},
   "source": []
  },
  {
   "cell_type": "markdown",
   "id": "9aed9055",
   "metadata": {},
   "source": [
    "Q17. What does the . character normally match? What does it match if re.DOTALL is passed as 2nd argument in re.compile()?"
   ]
  },
  {
   "cell_type": "markdown",
   "id": "d8005f78",
   "metadata": {},
   "source": [
    "Ans:- The . character normally matches any character except the newline character. If re.DOTALL is passed as the second argument to re.compile(), then the dot will also match newline characters."
   ]
  },
  {
   "cell_type": "markdown",
   "id": "c313391e",
   "metadata": {},
   "source": []
  },
  {
   "cell_type": "markdown",
   "id": "5fa3e329",
   "metadata": {},
   "source": [
    "Q18. If numRegex = re.compile(r'\\d+'), what will numRegex.sub('X', '11 drummers, 10 pipers, five rings, 4 hen') return?"
   ]
  },
  {
   "cell_type": "code",
   "execution_count": 45,
   "id": "e4bf0080",
   "metadata": {},
   "outputs": [
    {
     "data": {
      "text/plain": [
       "'x drummers, x pipers, five rings, x hen'"
      ]
     },
     "execution_count": 45,
     "metadata": {},
     "output_type": "execute_result"
    }
   ],
   "source": [
    "numregex = re.compile(r'\\d+')\n",
    "mo = numregex.sub('x' , '11 drummers, 10 pipers, five rings, 4 hen')\n",
    "mo"
   ]
  },
  {
   "cell_type": "markdown",
   "id": "c2c5baa6",
   "metadata": {},
   "source": []
  },
  {
   "cell_type": "markdown",
   "id": "c6ec376a",
   "metadata": {},
   "source": [
    "Q19. What does passing re.VERBOSE as the 2nd argument to re.compile() allow to do?"
   ]
  },
  {
   "cell_type": "markdown",
   "id": "a045e2b0",
   "metadata": {},
   "source": [
    "Ans:- The re.VERBOSE argument allows you to add whitespace and comments to the strings passed to re.compile()"
   ]
  },
  {
   "cell_type": "markdown",
   "id": "2dbc8d7d",
   "metadata": {},
   "source": []
  },
  {
   "cell_type": "markdown",
   "id": "13d17891",
   "metadata": {},
   "source": [
    "Q20. How would you write a regex that match a number with comma for every three digits? It must match the given following:"
   ]
  },
  {
   "cell_type": "code",
   "execution_count": 48,
   "id": "ce136f93",
   "metadata": {},
   "outputs": [
    {
     "data": {
      "text/plain": [
       "'42'"
      ]
     },
     "execution_count": 48,
     "metadata": {},
     "output_type": "execute_result"
    }
   ],
   "source": [
    "reg1 = re.compile(r'^\\d{1,3}(,\\d{3})*$')\n",
    "mo1 = reg1.search('42')\n",
    "mo1.group()"
   ]
  },
  {
   "cell_type": "code",
   "execution_count": 50,
   "id": "856bba3b",
   "metadata": {},
   "outputs": [
    {
     "data": {
      "text/plain": [
       "'1,234'"
      ]
     },
     "execution_count": 50,
     "metadata": {},
     "output_type": "execute_result"
    }
   ],
   "source": [
    "reg1 = re.compile(r'^\\d{1,3}(,\\d{3})*$')\n",
    "mo1 = reg1.search('1,234')\n",
    "mo1.group()"
   ]
  },
  {
   "cell_type": "code",
   "execution_count": 51,
   "id": "10f36e4d",
   "metadata": {},
   "outputs": [
    {
     "data": {
      "text/plain": [
       "'6,368,745'"
      ]
     },
     "execution_count": 51,
     "metadata": {},
     "output_type": "execute_result"
    }
   ],
   "source": [
    "reg1 = re.compile(r'^\\d{1,3}(,\\d{3})*$')\n",
    "mo1 = reg1.search('6,368,745')\n",
    "mo1.group()"
   ]
  },
  {
   "cell_type": "markdown",
   "id": "18739897",
   "metadata": {},
   "source": []
  },
  {
   "cell_type": "markdown",
   "id": "fd9ecfdd",
   "metadata": {},
   "source": [
    "Q21. How would you write a regex that matches the full name of someone whose last name is Watanabe? You can assume that the first name that comes before it will always be one word that begins with a capital letter. The regex must match the following:"
   ]
  },
  {
   "cell_type": "code",
   "execution_count": 52,
   "id": "b60e64a1",
   "metadata": {},
   "outputs": [
    {
     "data": {
      "text/plain": [
       "'Haruto Watanabe'"
      ]
     },
     "execution_count": 52,
     "metadata": {},
     "output_type": "execute_result"
    }
   ],
   "source": [
    "name = re.compile(r'[A-Z][a-z]*\\sWatanabe')\n",
    "reg1 = re.compile(r'^\\d{1,3}(,\\d{haruto Watanabe3})*$')\n",
    "mo1 = name.search('Haruto Watanabe')\n",
    "mo1.group()"
   ]
  },
  {
   "cell_type": "code",
   "execution_count": 53,
   "id": "24e4d609",
   "metadata": {},
   "outputs": [
    {
     "data": {
      "text/plain": [
       "'Alice Watanabe'"
      ]
     },
     "execution_count": 53,
     "metadata": {},
     "output_type": "execute_result"
    }
   ],
   "source": [
    "name = re.compile(r'[A-Z][a-z]*\\sWatanabe')\n",
    "reg1 = re.compile(r'^\\d{1,3}(,\\d{3})*$')\n",
    "mo1 = name.search('Alice Watanabe')\n",
    "mo1.group()"
   ]
  },
  {
   "cell_type": "code",
   "execution_count": 54,
   "id": "df9f1a92",
   "metadata": {},
   "outputs": [
    {
     "data": {
      "text/plain": [
       "'Robocop Watanabe'"
      ]
     },
     "execution_count": 54,
     "metadata": {},
     "output_type": "execute_result"
    }
   ],
   "source": [
    "name = re.compile(r'[A-Z][a-z]*\\sWatanabe')\n",
    "reg1 = re.compile(r'^\\d{1,3}(,\\d{3})*$')\n",
    "mo1 = name.search('Robocop Watanabe')\n",
    "mo1.group()"
   ]
  },
  {
   "cell_type": "markdown",
   "id": "4372a7e2",
   "metadata": {},
   "source": []
  },
  {
   "cell_type": "markdown",
   "id": "95e6db9a",
   "metadata": {},
   "source": [
    "Q22. How would you write a regex that matches a sentence where the first word is either Alice, Bob,or Carol; the second word is either eats, pets, or throws; the third word is apples, cats, or baseballs; and the sentence ends with a period? This regex should be case-insensitive. It must match the following:"
   ]
  },
  {
   "cell_type": "code",
   "execution_count": 58,
   "id": "b1e8f122",
   "metadata": {},
   "outputs": [
    {
     "data": {
      "text/plain": [
       "'Alice eats apples'"
      ]
     },
     "execution_count": 58,
     "metadata": {},
     "output_type": "execute_result"
    }
   ],
   "source": [
    "name = re.compile(r'(Alice|Bob|Carol)\\s(eats|pets|throws)\\s(apples|cats|baseballs)', re.I)\n",
    "mo1 = name.search('Alice eats apples')\n",
    "mo1.group()"
   ]
  },
  {
   "cell_type": "code",
   "execution_count": 59,
   "id": "acc71db1",
   "metadata": {},
   "outputs": [
    {
     "data": {
      "text/plain": [
       "'Carol throws baseballs.'"
      ]
     },
     "execution_count": 59,
     "metadata": {},
     "output_type": "execute_result"
    }
   ],
   "source": [
    "name = re.compile(r'(Alice|Bob|Carol)\\s(eats|pets|throws)\\s(apples|cats|baseballs)\\.', re.IGNORECASE)\n",
    "\n",
    "mo1 = name.search('Carol throws baseballs.')\n",
    "mo1.group()"
   ]
  },
  {
   "cell_type": "code",
   "execution_count": null,
   "id": "db7ccb19",
   "metadata": {},
   "outputs": [],
   "source": []
  }
 ],
 "metadata": {
  "kernelspec": {
   "display_name": "Python 3 (ipykernel)",
   "language": "python",
   "name": "python3"
  },
  "language_info": {
   "codemirror_mode": {
    "name": "ipython",
    "version": 3
   },
   "file_extension": ".py",
   "mimetype": "text/x-python",
   "name": "python",
   "nbconvert_exporter": "python",
   "pygments_lexer": "ipython3",
   "version": "3.9.7"
  }
 },
 "nbformat": 4,
 "nbformat_minor": 5
}
