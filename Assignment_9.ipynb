{
 "cells": [
  {
   "cell_type": "markdown",
   "id": "f5144609",
   "metadata": {},
   "source": [
    "Q1. To what does a relative path refer?\n",
    "Ans:- the current working directory"
   ]
  },
  {
   "cell_type": "markdown",
   "id": "ee4e7e78",
   "metadata": {},
   "source": []
  },
  {
   "cell_type": "markdown",
   "id": "a241ca03",
   "metadata": {},
   "source": [
    "Q2. What does an absolute path start with your operating system?\n",
    "Ans:- the root folder, such as / or C:\\ "
   ]
  },
  {
   "cell_type": "markdown",
   "id": "5720c280",
   "metadata": {},
   "source": []
  },
  {
   "cell_type": "markdown",
   "id": "637f6009",
   "metadata": {},
   "source": [
    "Q3. What do the functions os.getcwd() and os.chdir() do?"
   ]
  },
  {
   "cell_type": "code",
   "execution_count": 3,
   "id": "f0070ce5",
   "metadata": {},
   "outputs": [
    {
     "name": "stdout",
     "output_type": "stream",
     "text": [
      "C:\\Users\\cw\n"
     ]
    }
   ],
   "source": [
    "import os\n",
    "\n",
    "current_dir = os.getcwd()\n",
    "print(current_dir)"
   ]
  },
  {
   "cell_type": "code",
   "execution_count": 23,
   "id": "206a7525",
   "metadata": {},
   "outputs": [
    {
     "name": "stdout",
     "output_type": "stream",
     "text": [
      "C:\\Users\n"
     ]
    }
   ],
   "source": [
    "import os\n",
    "\n",
    "current_dir = os.getcwd()\n",
    "print(current_dir)\n",
    "\n",
    "os.chdir(\"../\")"
   ]
  },
  {
   "cell_type": "markdown",
   "id": "fae13706",
   "metadata": {},
   "source": []
  },
  {
   "cell_type": "markdown",
   "id": "b24b39f4",
   "metadata": {},
   "source": [
    "Q4. What are the . and .. folders?"
   ]
  },
  {
   "cell_type": "markdown",
   "id": "81515acd",
   "metadata": {},
   "source": [
    "Ans:- . folder is the current folder, and .. is the parent folder."
   ]
  },
  {
   "cell_type": "markdown",
   "id": "15e35bc5",
   "metadata": {},
   "source": []
  },
  {
   "cell_type": "markdown",
   "id": "5d92eca5",
   "metadata": {},
   "source": [
    "Q5. In C:\\bacon\\eggs\\spam.txt, which part is the dir name, and which part is the base name?"
   ]
  },
  {
   "cell_type": "markdown",
   "id": "bcfbc79f",
   "metadata": {},
   "source": [
    "Ans:- C:\\bacon\\eggs\\spam.txt is the dir name, spam.txt is the base name"
   ]
  },
  {
   "cell_type": "markdown",
   "id": "122df463",
   "metadata": {},
   "source": []
  },
  {
   "cell_type": "markdown",
   "id": "b3d1cf33",
   "metadata": {},
   "source": [
    "Q6. What are the three “mode” arguments that can be passed to the open() function?"
   ]
  },
  {
   "cell_type": "markdown",
   "id": "678abe4c",
   "metadata": {},
   "source": [
    "Ans:- 'r' for read mode, 'w' for write mode, 'a' for append mode"
   ]
  },
  {
   "cell_type": "markdown",
   "id": "45944d87",
   "metadata": {},
   "source": []
  },
  {
   "cell_type": "markdown",
   "id": "66088866",
   "metadata": {},
   "source": [
    "Q7. What happens if an existing file is opened in write mode?"
   ]
  },
  {
   "cell_type": "markdown",
   "id": "44de1233",
   "metadata": {},
   "source": [
    "Ans:- is erased and completely overwritten"
   ]
  },
  {
   "cell_type": "markdown",
   "id": "e122e191",
   "metadata": {},
   "source": []
  },
  {
   "cell_type": "markdown",
   "id": "ad587bdd",
   "metadata": {},
   "source": [
    "Q8. How do you tell the difference between read() and readlines()?"
   ]
  },
  {
   "cell_type": "markdown",
   "id": "793dc508",
   "metadata": {},
   "source": [
    "Answer: read() returns the ﬁle’s entire contents as a single string value, readlines() returns a list of strings, where each string is a line from the ﬁle’s contents."
   ]
  },
  {
   "cell_type": "markdown",
   "id": "ff708f32",
   "metadata": {},
   "source": []
  },
  {
   "cell_type": "markdown",
   "id": "cdc2eddb",
   "metadata": {},
   "source": [
    "Q9. What data structure does a shelf value resemble?"
   ]
  },
  {
   "cell_type": "markdown",
   "id": "5702e029",
   "metadata": {},
   "source": [
    "Ans:- a dictionary value; it has keys and values, along with keys() and values() methods that work similarly to the dictionary methods of the same names."
   ]
  },
  {
   "cell_type": "code",
   "execution_count": null,
   "id": "59bf307d",
   "metadata": {},
   "outputs": [],
   "source": []
  }
 ],
 "metadata": {
  "kernelspec": {
   "display_name": "Python 3 (ipykernel)",
   "language": "python",
   "name": "python3"
  },
  "language_info": {
   "codemirror_mode": {
    "name": "ipython",
    "version": 3
   },
   "file_extension": ".py",
   "mimetype": "text/x-python",
   "name": "python",
   "nbconvert_exporter": "python",
   "pygments_lexer": "ipython3",
   "version": "3.9.7"
  }
 },
 "nbformat": 4,
 "nbformat_minor": 5
}
