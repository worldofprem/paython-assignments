{
 "cells": [
  {
   "cell_type": "markdown",
   "id": "c7747d6f",
   "metadata": {},
   "source": [
    "Q1. How do you distinguish between shutil.copy() and shutil.copytree()?"
   ]
  },
  {
   "cell_type": "markdown",
   "id": "e313d2bf",
   "metadata": {},
   "source": [
    "Ans:- shutil.copy :- copy a single file\n",
    "shutil.copytree() :- will copy an entire folder and every folder and file contained in it"
   ]
  },
  {
   "cell_type": "markdown",
   "id": "69bb9545",
   "metadata": {},
   "source": []
  },
  {
   "cell_type": "markdown",
   "id": "490b512e",
   "metadata": {},
   "source": [
    "Q2. What function is used to rename files??"
   ]
  },
  {
   "cell_type": "markdown",
   "id": "fbab15d6",
   "metadata": {},
   "source": [
    "Ans:- import os\n",
    "      os.rename(\"text.txt\",\"prem.txt\")\n",
    "     "
   ]
  },
  {
   "cell_type": "markdown",
   "id": "ff99b1e6",
   "metadata": {},
   "source": []
  },
  {
   "cell_type": "markdown",
   "id": "00d049e2",
   "metadata": {},
   "source": [
    "Q3. What is the difference between the delete functions in the send2trash and shutil modules?"
   ]
  },
  {
   "cell_type": "markdown",
   "id": "a3c1b464",
   "metadata": {},
   "source": [
    "Ans:- import shutil shutil.rmtree(): the shutil module's rmtree() function can be used to delete files or folders. but, this function delete the files permanently. The operations cannot be undone if there were any accidental deletions performed\n",
    "\n",
    "import send2trash\n",
    "\n",
    "send2trash.send2trash: Using send2trash, we can send files to the trash or recycle bin instead of permanently deleting them. If the directory contains files or other folders, those are also deleted. A trashpermissionerror exception is raised, in case a file could not be deleted due to permission error any other unexpected reason."
   ]
  },
  {
   "cell_type": "code",
   "execution_count": null,
   "id": "fe005bc1",
   "metadata": {},
   "outputs": [],
   "source": [
    "import shitil\n",
    "import send2trash\n",
    "shutil.rmtree(\"p\")\n",
    "send2trash.send2trash(\"P\")"
   ]
  },
  {
   "cell_type": "markdown",
   "id": "d752aeae",
   "metadata": {},
   "source": []
  },
  {
   "cell_type": "markdown",
   "id": "a454d341",
   "metadata": {},
   "source": [
    "Q4. ZipFile objects have a close() method just like File objects’ close() method. What ZipFile method is equivalent to File objects’ open() method?"
   ]
  },
  {
   "cell_type": "markdown",
   "id": "39d8aec8",
   "metadata": {},
   "source": [
    "Ans:- from zipfile import zipfile with zipfile(file_name,'r') as zip:- this code will open specified zipfile for us. we can use zip object to perform other operation the zipfile.like zip.read()"
   ]
  },
  {
   "cell_type": "code",
   "execution_count": null,
   "id": "e6b767f0",
   "metadata": {},
   "outputs": [],
   "source": [
    "from zipfile import zipfile\n",
    "with zipfile(file_name, 'r') as zip"
   ]
  },
  {
   "cell_type": "markdown",
   "id": "ab3bed02",
   "metadata": {},
   "source": []
  },
  {
   "cell_type": "markdown",
   "id": "7427a28c",
   "metadata": {},
   "source": [
    "Q5. Create a programme that searches a folder tree for files with a certain file extension (such as .pdf or .jpg). Copy these files from whatever location they are in to a new folder."
   ]
  },
  {
   "cell_type": "code",
   "execution_count": 4,
   "id": "8ddeb800",
   "metadata": {},
   "outputs": [
    {
     "name": "stdout",
     "output_type": "stream",
     "text": [
      "Files have been successfully copied from C:\\users\\cw\\p to c:\\users\\cw\\downloads\n"
     ]
    }
   ],
   "source": [
    "def copyFile(src,dst,ext):\n",
    "    try:\n",
    "        import os,shutil\n",
    "        for file in os.listdir(src):\n",
    "            if file.endswith(ext):\n",
    "                shutil.copy(os.path.join(src,file),dst)\n",
    "        print(f'Files have been successfully copied from {src} to {dst}')\n",
    "    except Exception as e:\n",
    "        print(e)\n",
    "\n",
    "copyFile(r'C:\\users\\cw\\p', r'c:\\users\\cw\\downloads', '.jpg')"
   ]
  },
  {
   "cell_type": "code",
   "execution_count": null,
   "id": "0fabecc2",
   "metadata": {},
   "outputs": [],
   "source": []
  }
 ],
 "metadata": {
  "kernelspec": {
   "display_name": "Python 3 (ipykernel)",
   "language": "python",
   "name": "python3"
  },
  "language_info": {
   "codemirror_mode": {
    "name": "ipython",
    "version": 3
   },
   "file_extension": ".py",
   "mimetype": "text/x-python",
   "name": "python",
   "nbconvert_exporter": "python",
   "pygments_lexer": "ipython3",
   "version": "3.9.7"
  }
 },
 "nbformat": 4,
 "nbformat_minor": 5
}
