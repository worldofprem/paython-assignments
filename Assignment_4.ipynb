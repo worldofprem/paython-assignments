{
 "cells": [
  {
   "cell_type": "markdown",
   "id": "16f125ed",
   "metadata": {},
   "source": [
    "Q1. What exactly is []?\n",
    "Ans:- [] is a empty list, like a = []\n",
    "\n"
   ]
  },
  {
   "cell_type": "markdown",
   "id": "638644c6",
   "metadata": {},
   "source": [
    "Q2. In a list of values stored in a variable called spam, how would you assign the value 'hello' as the\n",
    "third value? (Assume [2, 4, 6, 8, 10] are in spam."
   ]
  },
  {
   "cell_type": "code",
   "execution_count": 1,
   "id": "467b1b7c",
   "metadata": {},
   "outputs": [
    {
     "data": {
      "text/plain": [
       "[2, 4, 'hello', 8, 10]"
      ]
     },
     "execution_count": 1,
     "metadata": {},
     "output_type": "execute_result"
    }
   ],
   "source": [
    "spam = [2,4,6,8,10]\n",
    "spam[2] = 'hello'\n",
    "spam"
   ]
  },
  {
   "cell_type": "markdown",
   "id": "c56801a6",
   "metadata": {},
   "source": [
    "Lets pretend the spam includes the list ['a', 'b','c','d'] for the next three queries."
   ]
  },
  {
   "cell_type": "markdown",
   "id": "c4c5545b",
   "metadata": {},
   "source": []
  },
  {
   "cell_type": "markdown",
   "id": "04e8d82d",
   "metadata": {},
   "source": [
    "Q3. What is the value of spam[-1]?"
   ]
  },
  {
   "cell_type": "code",
   "execution_count": 2,
   "id": "005bfa21",
   "metadata": {},
   "outputs": [
    {
     "data": {
      "text/plain": [
       "'d'"
      ]
     },
     "execution_count": 2,
     "metadata": {},
     "output_type": "execute_result"
    }
   ],
   "source": [
    "spam = ['a' , 'b' , 'c' , 'd']\n",
    "spam[-1]"
   ]
  },
  {
   "cell_type": "markdown",
   "id": "3f760658",
   "metadata": {},
   "source": []
  },
  {
   "cell_type": "markdown",
   "id": "df56367e",
   "metadata": {},
   "source": [
    "Q4. What is the value of spam[:2]?"
   ]
  },
  {
   "cell_type": "code",
   "execution_count": 3,
   "id": "762f5a78",
   "metadata": {},
   "outputs": [
    {
     "data": {
      "text/plain": [
       "['a', 'b']"
      ]
     },
     "execution_count": 3,
     "metadata": {},
     "output_type": "execute_result"
    }
   ],
   "source": [
    "spam[:2]"
   ]
  },
  {
   "cell_type": "markdown",
   "id": "bea2b8a0",
   "metadata": {},
   "source": []
  },
  {
   "cell_type": "markdown",
   "id": "82284cff",
   "metadata": {},
   "source": [
    "Q5. What is the value of spam[int(int(3 * 2) / 11)]?"
   ]
  },
  {
   "cell_type": "code",
   "execution_count": 4,
   "id": "091b06d1",
   "metadata": {},
   "outputs": [
    {
     "data": {
      "text/plain": [
       "'d'"
      ]
     },
     "execution_count": 4,
     "metadata": {},
     "output_type": "execute_result"
    }
   ],
   "source": [
    "spam[int(int('3' * 2) / 11)]"
   ]
  },
  {
   "cell_type": "markdown",
   "id": "e3ae55f5",
   "metadata": {},
   "source": []
  },
  {
   "cell_type": "markdown",
   "id": "efe8dafd",
   "metadata": {},
   "source": [
    "Let's pretend bacon has the list [3.14, 'cat' 11, 'cat' True] for the next three questions."
   ]
  },
  {
   "cell_type": "markdown",
   "id": "b42432c3",
   "metadata": {},
   "source": [
    "Q6. What is the value of bacon.index('cat')?"
   ]
  },
  {
   "cell_type": "code",
   "execution_count": 5,
   "id": "eeb41934",
   "metadata": {},
   "outputs": [
    {
     "data": {
      "text/plain": [
       "1"
      ]
     },
     "execution_count": 5,
     "metadata": {},
     "output_type": "execute_result"
    }
   ],
   "source": [
    "bacon = [3.14, 'cat', 11, 'cat', True]\n",
    "bacon.index('cat')"
   ]
  },
  {
   "cell_type": "markdown",
   "id": "5aa17b18",
   "metadata": {},
   "source": []
  },
  {
   "cell_type": "markdown",
   "id": "9214334d",
   "metadata": {},
   "source": [
    "Q7. How does bacon.append(99) change the look of the list value in bacon?"
   ]
  },
  {
   "cell_type": "code",
   "execution_count": 6,
   "id": "7664ab38",
   "metadata": {},
   "outputs": [
    {
     "data": {
      "text/plain": [
       "[3.14, 'cat', 11, 'cat', True, 99]"
      ]
     },
     "execution_count": 6,
     "metadata": {},
     "output_type": "execute_result"
    }
   ],
   "source": [
    "bacon = [3.14 , 'cat', 11, 'cat', True]\n",
    "bacon.append(99)\n",
    "bacon"
   ]
  },
  {
   "cell_type": "markdown",
   "id": "e7e28cec",
   "metadata": {},
   "source": []
  },
  {
   "cell_type": "markdown",
   "id": "aa5ed451",
   "metadata": {},
   "source": [
    "Q8. How does bacon.remove() change the look of the list in bacon?"
   ]
  },
  {
   "cell_type": "code",
   "execution_count": 7,
   "id": "68ca82c4",
   "metadata": {},
   "outputs": [
    {
     "data": {
      "text/plain": [
       "[3.14, 11, 'cat', True, 99]"
      ]
     },
     "execution_count": 7,
     "metadata": {},
     "output_type": "execute_result"
    }
   ],
   "source": [
    "bacon.remove('cat')\n",
    "bacon"
   ]
  },
  {
   "cell_type": "markdown",
   "id": "7e18d82c",
   "metadata": {},
   "source": []
  },
  {
   "cell_type": "markdown",
   "id": "7e144ca8",
   "metadata": {},
   "source": [
    "Q9. What are the list concatenation and list replication operators?"
   ]
  },
  {
   "cell_type": "markdown",
   "id": "f2a1281d",
   "metadata": {},
   "source": [
    "Ans:- ( * ) is list replication operator ( + ) is list concatination operator"
   ]
  },
  {
   "cell_type": "markdown",
   "id": "29a4728f",
   "metadata": {},
   "source": []
  },
  {
   "cell_type": "markdown",
   "id": "97d71773",
   "metadata": {},
   "source": [
    "Q10. What is difference between the list methods append() and insert()?"
   ]
  },
  {
   "cell_type": "markdown",
   "id": "323c0f02",
   "metadata": {},
   "source": [
    "Ans :- append() add object to the end of the list\n",
    "       insert() insert object before index"
   ]
  },
  {
   "cell_type": "code",
   "execution_count": 8,
   "id": "28664dc8",
   "metadata": {},
   "outputs": [
    {
     "data": {
      "text/plain": [
       "[3.14, 11, 'cat', True, 99]"
      ]
     },
     "execution_count": 8,
     "metadata": {},
     "output_type": "execute_result"
    }
   ],
   "source": [
    "bacon"
   ]
  },
  {
   "cell_type": "code",
   "execution_count": 10,
   "id": "2fd4e4cf",
   "metadata": {},
   "outputs": [
    {
     "data": {
      "text/plain": [
       "[3.14, 11, 'cat', True, 99, 23, 23]"
      ]
     },
     "execution_count": 10,
     "metadata": {},
     "output_type": "execute_result"
    }
   ],
   "source": [
    "bacon.append(23) # append ex.\n",
    "bacon"
   ]
  },
  {
   "cell_type": "code",
   "execution_count": 11,
   "id": "835f4f79",
   "metadata": {},
   "outputs": [
    {
     "data": {
      "text/plain": [
       "['a', 'b', 'c', 'd']"
      ]
     },
     "execution_count": 11,
     "metadata": {},
     "output_type": "execute_result"
    }
   ],
   "source": [
    "spam"
   ]
  },
  {
   "cell_type": "code",
   "execution_count": 12,
   "id": "df81d474",
   "metadata": {},
   "outputs": [
    {
     "data": {
      "text/plain": [
       "['a', 'b', 'c', 'hello', 'd']"
      ]
     },
     "execution_count": 12,
     "metadata": {},
     "output_type": "execute_result"
    }
   ],
   "source": [
    "spam.insert(3,'hello') #insert ex.\n",
    "spam"
   ]
  },
  {
   "cell_type": "markdown",
   "id": "667fcaab",
   "metadata": {},
   "source": []
  },
  {
   "cell_type": "markdown",
   "id": "e7fedace",
   "metadata": {},
   "source": [
    "Q11. What are the two methods for removing items from a list?"
   ]
  },
  {
   "cell_type": "code",
   "execution_count": 16,
   "id": "cd293767",
   "metadata": {},
   "outputs": [
    {
     "data": {
      "text/plain": [
       "[3.14, 11, 'cat', True, 99, 23]"
      ]
     },
     "execution_count": 16,
     "metadata": {},
     "output_type": "execute_result"
    }
   ],
   "source": [
    "bacon"
   ]
  },
  {
   "cell_type": "code",
   "execution_count": 17,
   "id": "49507c7a",
   "metadata": {},
   "outputs": [
    {
     "data": {
      "text/plain": [
       "[3.14, 11, 'cat', True, 99]"
      ]
     },
     "execution_count": 17,
     "metadata": {},
     "output_type": "execute_result"
    }
   ],
   "source": [
    "#pop method\n",
    "bacon.pop()\n",
    "bacon"
   ]
  },
  {
   "cell_type": "code",
   "execution_count": 19,
   "id": "634b92d8",
   "metadata": {},
   "outputs": [
    {
     "data": {
      "text/plain": [
       "[3.14, 11, 'cat', True]"
      ]
     },
     "execution_count": 19,
     "metadata": {},
     "output_type": "execute_result"
    }
   ],
   "source": [
    "#remove method\n",
    "bacon.remove(99)\n",
    "bacon"
   ]
  },
  {
   "cell_type": "markdown",
   "id": "6c0b7703",
   "metadata": {},
   "source": []
  },
  {
   "cell_type": "markdown",
   "id": "2a333255",
   "metadata": {},
   "source": [
    "Q12. Describe how list values and string values are identical."
   ]
  },
  {
   "cell_type": "markdown",
   "id": "9c4ea5d7",
   "metadata": {},
   "source": [
    "Ans:- 1. Both list and strings can be passed to len()\n",
    "      2. Have indexes and slices\n",
    "      3. Can be used in for loops\n",
    "      4. Can be concatenated or replicated\n",
    "      5. Can be used with the in and not in operators"
   ]
  },
  {
   "cell_type": "markdown",
   "id": "99ed58b2",
   "metadata": {},
   "source": []
  },
  {
   "cell_type": "markdown",
   "id": "ab34e82b",
   "metadata": {},
   "source": [
    "Q13. What's the difference between tuples and lists?"
   ]
  },
  {
   "cell_type": "markdown",
   "id": "3c399b68",
   "metadata": {},
   "source": [
    "Ans:- Lists : are mutable - they can have values added , removed,or changed. Lists use the square brackets, [and]\n",
    "Tuples : are immutable; they cannot be changed at all.\n",
    "Tuples are written using parentheses, (and)\n",
    "\n"
   ]
  },
  {
   "cell_type": "markdown",
   "id": "1c129bf1",
   "metadata": {},
   "source": []
  },
  {
   "cell_type": "markdown",
   "id": "e9debab3",
   "metadata": {},
   "source": [
    "Q14. How do you type a tuple value that only contains the integer 42?"
   ]
  },
  {
   "cell_type": "code",
   "execution_count": 25,
   "id": "5cc67c4f",
   "metadata": {},
   "outputs": [
    {
     "data": {
      "text/plain": [
       "42"
      ]
     },
     "execution_count": 25,
     "metadata": {},
     "output_type": "execute_result"
    }
   ],
   "source": [
    "tuple = (42)\n",
    "tuple"
   ]
  },
  {
   "cell_type": "markdown",
   "id": "083e0f74",
   "metadata": {},
   "source": [
    "Q15. How do you get a list value's tuple form? How do you get a tuple value's list form?"
   ]
  },
  {
   "cell_type": "code",
   "execution_count": 56,
   "id": "9402781b",
   "metadata": {},
   "outputs": [
    {
     "name": "stdout",
     "output_type": "stream",
     "text": [
      "(2, 3)\n",
      "<class 'tuple'>\n"
     ]
    }
   ],
   "source": [
    "l1 = [2,3]\n",
    "l = (*l1,)\n",
    "print(l)\n",
    "print(type(l))"
   ]
  },
  {
   "cell_type": "code",
   "execution_count": 58,
   "id": "9f9b0b92",
   "metadata": {},
   "outputs": [
    {
     "name": "stdout",
     "output_type": "stream",
     "text": [
      "[3, 4]\n",
      "<class 'list'>\n"
     ]
    }
   ],
   "source": [
    "t1 = (3,4)\n",
    "t = list(t1)\n",
    "print(t)\n",
    "print(type(t))"
   ]
  },
  {
   "cell_type": "markdown",
   "id": "bdd1d3e9",
   "metadata": {},
   "source": [
    "Q16. Variables that \"contain\" list values are not necessarily lists themselves. Instead, what do they contain?\n",
    "\n",
    "Ans. They contain references to list value\n",
    "\n"
   ]
  },
  {
   "cell_type": "markdown",
   "id": "ab7328fe",
   "metadata": {},
   "source": [
    "Q17. How do you distinguish between copy.copy() and copy.deepcopy()?\n",
    "\n",
    "Ans . The copy.copy() function will do a shallow copy of a list,\n",
    "The copy.deepcopy() function will do a deep copy of a list. only copy.deepcopy() will duplicate any lists inside the list"
   ]
  },
  {
   "cell_type": "code",
   "execution_count": null,
   "id": "fbb12001",
   "metadata": {},
   "outputs": [],
   "source": []
  }
 ],
 "metadata": {
  "kernelspec": {
   "display_name": "Python 3 (ipykernel)",
   "language": "python",
   "name": "python3"
  },
  "language_info": {
   "codemirror_mode": {
    "name": "ipython",
    "version": 3
   },
   "file_extension": ".py",
   "mimetype": "text/x-python",
   "name": "python",
   "nbconvert_exporter": "python",
   "pygments_lexer": "ipython3",
   "version": "3.9.7"
  }
 },
 "nbformat": 4,
 "nbformat_minor": 5
}
