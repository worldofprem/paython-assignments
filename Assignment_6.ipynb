{
 "cells": [
  {
   "cell_type": "markdown",
   "id": "f610e9d4",
   "metadata": {},
   "source": [
    "Q1. What are escape characters, and how do you use them?\n",
    "\n",
    "\n",
    "Ans:- In python strings, the backslash\"\\\" is a special character, also called the \"escape\" character. It is used in representing certain whitespace characters: \"\\t\" is a tab, \"\\n\" is a newline , and \"\\r\" is a carriage return\n",
    "\n"
   ]
  },
  {
   "cell_type": "code",
   "execution_count": 32,
   "id": "246df541",
   "metadata": {},
   "outputs": [
    {
     "name": "stdout",
     "output_type": "stream",
     "text": [
      "my name is\n"
     ]
    }
   ],
   "source": [
    "print(\"my \\\n",
    "name \\\n",
    "is\")"
   ]
  },
  {
   "cell_type": "markdown",
   "id": "5ccdfcbb",
   "metadata": {},
   "source": []
  },
  {
   "cell_type": "markdown",
   "id": "9044c57f",
   "metadata": {},
   "source": [
    "Q2. What do the escape characters n and t stand for?\n",
    "Ans:- \"\\t\" is a tab, \"\\n\" is a newline"
   ]
  },
  {
   "cell_type": "markdown",
   "id": "066d6a97",
   "metadata": {},
   "source": []
  },
  {
   "cell_type": "markdown",
   "id": "a43f6ea3",
   "metadata": {},
   "source": [
    "Q3. What is the way to include backslash characters in a string?"
   ]
  },
  {
   "cell_type": "code",
   "execution_count": 6,
   "id": "37ee4e75",
   "metadata": {},
   "outputs": [
    {
     "name": "stdout",
     "output_type": "stream",
     "text": [
      "its a black slash \\ in a line\n"
     ]
    }
   ],
   "source": [
    "print('its a black slash \\\\ in a line')"
   ]
  },
  {
   "cell_type": "markdown",
   "id": "2800c690",
   "metadata": {},
   "source": []
  },
  {
   "cell_type": "markdown",
   "id": "0e1e31a6",
   "metadata": {},
   "source": [
    "Q4. The string \"Howl's Moving Castle\" is a correct value. Why isn't the single quote character in the word Howl's not escaped a problem?"
   ]
  },
  {
   "cell_type": "markdown",
   "id": "1a29b802",
   "metadata": {},
   "source": [
    "Ans:- The single quote in Howl's is fine because you've used double quotes to mark the beginning and end of the string . like wise we can use double quotes in with single quotes"
   ]
  },
  {
   "cell_type": "code",
   "execution_count": 7,
   "id": "e94e7c05",
   "metadata": {},
   "outputs": [
    {
     "name": "stdout",
     "output_type": "stream",
     "text": [
      "Howl's Moving castle\n"
     ]
    }
   ],
   "source": [
    "print(\"Howl's Moving castle\")"
   ]
  },
  {
   "cell_type": "code",
   "execution_count": 8,
   "id": "1a5452ba",
   "metadata": {},
   "outputs": [
    {
     "name": "stdout",
     "output_type": "stream",
     "text": [
      "we are in world of \"prem\"\n"
     ]
    }
   ],
   "source": [
    "#use of Double quote inside single quotes\n",
    "print('we are in world of \"prem\"')"
   ]
  },
  {
   "cell_type": "markdown",
   "id": "60a8d108",
   "metadata": {},
   "source": []
  },
  {
   "cell_type": "markdown",
   "id": "75b2ea4b",
   "metadata": {},
   "source": [
    "Q5. How do you write a string of newlines if you don't want to use the n character?"
   ]
  },
  {
   "cell_type": "code",
   "execution_count": 9,
   "id": "c5a3e838",
   "metadata": {},
   "outputs": [
    {
     "name": "stdout",
     "output_type": "stream",
     "text": [
      "printing something in new line\n",
      "newline\n"
     ]
    }
   ],
   "source": [
    "print(\"printing something in new line\", end = '\\n')\n",
    "print(\"newline\")"
   ]
  },
  {
   "cell_type": "markdown",
   "id": "39f81e5c",
   "metadata": {},
   "source": []
  },
  {
   "cell_type": "markdown",
   "id": "c6a61c48",
   "metadata": {},
   "source": [
    "Q6. What are the values of the given expressions? 'Hello, world!'[1] 'Hello, world!'[0:5] 'Hello, world!'[:5] 'Hello, world!'[3:]"
   ]
  },
  {
   "cell_type": "code",
   "execution_count": 11,
   "id": "b0e38390",
   "metadata": {},
   "outputs": [
    {
     "data": {
      "text/plain": [
       "'e'"
      ]
     },
     "execution_count": 11,
     "metadata": {},
     "output_type": "execute_result"
    }
   ],
   "source": [
    "'Hello, world!'[1]"
   ]
  },
  {
   "cell_type": "code",
   "execution_count": 12,
   "id": "39c059a5",
   "metadata": {},
   "outputs": [
    {
     "data": {
      "text/plain": [
       "'Hello'"
      ]
     },
     "execution_count": 12,
     "metadata": {},
     "output_type": "execute_result"
    }
   ],
   "source": [
    "'Hello, world!' [0:5]"
   ]
  },
  {
   "cell_type": "code",
   "execution_count": 13,
   "id": "389ac985",
   "metadata": {},
   "outputs": [
    {
     "data": {
      "text/plain": [
       "'Hello'"
      ]
     },
     "execution_count": 13,
     "metadata": {},
     "output_type": "execute_result"
    }
   ],
   "source": [
    "'Hello, world!' [:5]"
   ]
  },
  {
   "cell_type": "code",
   "execution_count": 14,
   "id": "dd478afd",
   "metadata": {},
   "outputs": [
    {
     "data": {
      "text/plain": [
       "'lo, world!'"
      ]
     },
     "execution_count": 14,
     "metadata": {},
     "output_type": "execute_result"
    }
   ],
   "source": [
    "'Hello, world!' [3:]"
   ]
  },
  {
   "cell_type": "markdown",
   "id": "ba17f113",
   "metadata": {},
   "source": []
  },
  {
   "cell_type": "markdown",
   "id": "579274d4",
   "metadata": {},
   "source": [
    "Q7. What are the values of the following expressions? 'Hello'.upper() 'Hello'.upper().isupper() 'Hello'.upper().lower()"
   ]
  },
  {
   "cell_type": "code",
   "execution_count": 15,
   "id": "40af2771",
   "metadata": {},
   "outputs": [
    {
     "data": {
      "text/plain": [
       "'HELLO'"
      ]
     },
     "execution_count": 15,
     "metadata": {},
     "output_type": "execute_result"
    }
   ],
   "source": [
    "'Hello'.upper()"
   ]
  },
  {
   "cell_type": "code",
   "execution_count": 16,
   "id": "15ea8a7e",
   "metadata": {},
   "outputs": [
    {
     "data": {
      "text/plain": [
       "True"
      ]
     },
     "execution_count": 16,
     "metadata": {},
     "output_type": "execute_result"
    }
   ],
   "source": [
    "'Hello'.upper().isupper()"
   ]
  },
  {
   "cell_type": "code",
   "execution_count": 17,
   "id": "a2dc48a3",
   "metadata": {},
   "outputs": [
    {
     "data": {
      "text/plain": [
       "'hello'"
      ]
     },
     "execution_count": 17,
     "metadata": {},
     "output_type": "execute_result"
    }
   ],
   "source": [
    "'Hello'.upper().lower()"
   ]
  },
  {
   "cell_type": "markdown",
   "id": "b52c9b1d",
   "metadata": {},
   "source": []
  },
  {
   "cell_type": "markdown",
   "id": "d6cd5c28",
   "metadata": {},
   "source": [
    "Q8. What are the values of the following expressions? 'Remember, remember, the fifth of July.'.split() '-'.join('There can only one.'.split())"
   ]
  },
  {
   "cell_type": "code",
   "execution_count": 18,
   "id": "2c7c13c0",
   "metadata": {},
   "outputs": [
    {
     "data": {
      "text/plain": [
       "['Remember,', 'remember,', 'the', 'fifth', 'of', 'July.']"
      ]
     },
     "execution_count": 18,
     "metadata": {},
     "output_type": "execute_result"
    }
   ],
   "source": [
    "'Remember, remember, the fifth of July.'.split()"
   ]
  },
  {
   "cell_type": "code",
   "execution_count": 19,
   "id": "afbed0bc",
   "metadata": {},
   "outputs": [
    {
     "data": {
      "text/plain": [
       "'There-can-only-one.'"
      ]
     },
     "execution_count": 19,
     "metadata": {},
     "output_type": "execute_result"
    }
   ],
   "source": [
    "'-'.join('There can only one.'.split())"
   ]
  },
  {
   "cell_type": "markdown",
   "id": "071f2623",
   "metadata": {},
   "source": []
  },
  {
   "cell_type": "markdown",
   "id": "35febe80",
   "metadata": {},
   "source": [
    "Q9. What are the methods for right-justifying, left-justifying, and centering a string?"
   ]
  },
  {
   "cell_type": "code",
   "execution_count": 21,
   "id": "924449bd",
   "metadata": {},
   "outputs": [
    {
     "data": {
      "text/plain": [
       "'++++++++++++++++++++++++++prem'"
      ]
     },
     "execution_count": 21,
     "metadata": {},
     "output_type": "execute_result"
    }
   ],
   "source": [
    "#right justified \n",
    "s = \"prem\"\n",
    "s.rjust(30 , \"+\")"
   ]
  },
  {
   "cell_type": "code",
   "execution_count": 22,
   "id": "8803bae2",
   "metadata": {},
   "outputs": [
    {
     "data": {
      "text/plain": [
       "'Narayan&&&&&&&&&&&&&&&&&&&&&&&'"
      ]
     },
     "execution_count": 22,
     "metadata": {},
     "output_type": "execute_result"
    }
   ],
   "source": [
    "#left justified \n",
    "s = \"Narayan\"\n",
    "s.ljust(30 , \"&\")"
   ]
  },
  {
   "cell_type": "code",
   "execution_count": 23,
   "id": "a037ac48",
   "metadata": {},
   "outputs": [
    {
     "data": {
      "text/plain": [
       "'**********************sharma*********************'"
      ]
     },
     "execution_count": 23,
     "metadata": {},
     "output_type": "execute_result"
    }
   ],
   "source": [
    "#center justified \n",
    "s = \"sharma\"\n",
    "s.center(49 , '*')"
   ]
  },
  {
   "cell_type": "markdown",
   "id": "6094167c",
   "metadata": {},
   "source": []
  },
  {
   "cell_type": "markdown",
   "id": "5a190105",
   "metadata": {},
   "source": [
    "Q10. What is the best way to remove whitespace characters from the start or end?"
   ]
  },
  {
   "cell_type": "code",
   "execution_count": 24,
   "id": "ccdafe4b",
   "metadata": {},
   "outputs": [
    {
     "data": {
      "text/plain": [
       "'premaditator       '"
      ]
     },
     "execution_count": 24,
     "metadata": {},
     "output_type": "execute_result"
    }
   ],
   "source": [
    "s = \"       premaditator       \"\n",
    "s.lstrip()"
   ]
  },
  {
   "cell_type": "code",
   "execution_count": 25,
   "id": "eeaebca4",
   "metadata": {},
   "outputs": [
    {
     "data": {
      "text/plain": [
       "'       premaditator'"
      ]
     },
     "execution_count": 25,
     "metadata": {},
     "output_type": "execute_result"
    }
   ],
   "source": [
    "s.rstrip()"
   ]
  },
  {
   "cell_type": "code",
   "execution_count": null,
   "id": "3848f511",
   "metadata": {},
   "outputs": [],
   "source": []
  }
 ],
 "metadata": {
  "kernelspec": {
   "display_name": "Python 3 (ipykernel)",
   "language": "python",
   "name": "python3"
  },
  "language_info": {
   "codemirror_mode": {
    "name": "ipython",
    "version": 3
   },
   "file_extension": ".py",
   "mimetype": "text/x-python",
   "name": "python",
   "nbconvert_exporter": "python",
   "pygments_lexer": "ipython3",
   "version": "3.9.7"
  }
 },
 "nbformat": 4,
 "nbformat_minor": 5
}
