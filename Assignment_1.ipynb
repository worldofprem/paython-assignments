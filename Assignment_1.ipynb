{
 "cells": [
  {
   "cell_type": "raw",
   "id": "ee2eb23c",
   "metadata": {},
   "source": [
    "Q1. In the below elements which of them are values or an expression? eg:- values can be integer or string and expressions will be mathematical operators.\n",
    "\n",
    "Ans :1)   *      = operator\n",
    "     2)  'hello' = string vlaue\n",
    "     3)  -87.8   = value\n",
    "     4)   -      = operator\n",
    "     5)   /      = operator\n",
    "     6)   +      = operator\n",
    "     7)   6      = integer value\n",
    "\n",
    "\n",
    "Q2. What is the difference between string and variable?\n",
    "\n",
    "Ans :- string is a datatype while variables are container for storing data values. \n",
    "    for ex :- s = 'prem' , here \"s\" is a variable and 'prem' is string.\n",
    "\n",
    "\n",
    "Q3. Describe three different data types.\n",
    "\n",
    "Ans :- text type = str\n",
    "       Numeric Type = int , float , complex\n",
    "       Boolean Type = Bool\n",
    "\n",
    "\n",
    "Q4. What is an expression made up of? What do all expressions do?\n",
    "\n",
    "Ans :- An expression is a combination of operator, variables, value. Expressions need to be evaluated . All expressions \n",
    "evaluate to a single value.\n",
    "\n",
    "\n",
    "Q5. This assignment statements, like spam = 10. What is the difference between an expression and a statement?\n",
    "\n",
    "Ans :- Expression is made up of values, containers, and mathematical operators (operands) and the statement is just \n",
    "like a command that a python interpreter executes like print and assignment statements.\n"
   ]
  },
  {
   "cell_type": "raw",
   "id": "662bb2c9",
   "metadata": {},
   "source": [
    "Q6. After running the following code, what does the variable bacon contain?\n",
    "bacon = 22\n",
    "bacon + 1"
   ]
  },
  {
   "cell_type": "code",
   "execution_count": 1,
   "id": "202192e5",
   "metadata": {},
   "outputs": [],
   "source": [
    "bacon = 22"
   ]
  },
  {
   "cell_type": "code",
   "execution_count": 2,
   "id": "8eb8e5e9",
   "metadata": {},
   "outputs": [
    {
     "data": {
      "text/plain": [
       "23"
      ]
     },
     "execution_count": 2,
     "metadata": {},
     "output_type": "execute_result"
    }
   ],
   "source": [
    "bacon+1"
   ]
  },
  {
   "cell_type": "raw",
   "id": "10a981ea",
   "metadata": {},
   "source": [
    "it will gives 23"
   ]
  },
  {
   "cell_type": "raw",
   "id": "e8a98f2d",
   "metadata": {},
   "source": [
    "Q7. What should the values of the following two terms be?\n",
    "'spam' + 'spamspam'\n",
    "'spam' * 3"
   ]
  },
  {
   "cell_type": "code",
   "execution_count": 3,
   "id": "6dfa31a7",
   "metadata": {},
   "outputs": [
    {
     "data": {
      "text/plain": [
       "'spamspamspam'"
      ]
     },
     "execution_count": 3,
     "metadata": {},
     "output_type": "execute_result"
    }
   ],
   "source": [
    "'spam' + 'spamspam' "
   ]
  },
  {
   "cell_type": "code",
   "execution_count": 4,
   "id": "7a682866",
   "metadata": {},
   "outputs": [
    {
     "data": {
      "text/plain": [
       "'spamspamspam'"
      ]
     },
     "execution_count": 4,
     "metadata": {},
     "output_type": "execute_result"
    }
   ],
   "source": [
    "'spam' * 3"
   ]
  },
  {
   "cell_type": "raw",
   "id": "e5094693",
   "metadata": {},
   "source": [
    "both are giving the same value"
   ]
  },
  {
   "cell_type": "raw",
   "id": "108f9b47",
   "metadata": {},
   "source": [
    "Q8. Why is eggs a valid variable name while 100 is invalid?\n",
    "\n",
    "Ans :- because in python it is a rule that, A variable can not start with an integer, therefore 100 can not be the variable name.\n",
    "    \n",
    "    \n",
    "Q9. What three functions can be used to get the integer, floating-point number, or string version of a value?\n",
    "\n",
    "Ans :- int(), float(), str()\n",
    "    \n",
    "    \n",
    "Q10. Why does this expression cause an error? How can you fix it?\n",
    "'I have eaten ' + 99 + ' burritos.'\n",
    "\n",
    "Ans :- because 99 ia an integer and we can concatenated string to other string.\n",
    "       so, the correct wat is 'i have eaten' + str(99) + 'burritos'"
   ]
  },
  {
   "cell_type": "code",
   "execution_count": null,
   "id": "4d00f510",
   "metadata": {},
   "outputs": [],
   "source": []
  },
  {
   "cell_type": "code",
   "execution_count": null,
   "id": "45c3e403",
   "metadata": {},
   "outputs": [],
   "source": []
  },
  {
   "cell_type": "code",
   "execution_count": null,
   "id": "46c5ef38",
   "metadata": {},
   "outputs": [],
   "source": []
  },
  {
   "cell_type": "code",
   "execution_count": null,
   "id": "28b8adc3",
   "metadata": {},
   "outputs": [],
   "source": []
  }
 ],
 "metadata": {
  "kernelspec": {
   "display_name": "Python 3 (ipykernel)",
   "language": "python",
   "name": "python3"
  },
  "language_info": {
   "codemirror_mode": {
    "name": "ipython",
    "version": 3
   },
   "file_extension": ".py",
   "mimetype": "text/x-python",
   "name": "python",
   "nbconvert_exporter": "python",
   "pygments_lexer": "ipython3",
   "version": "3.9.7"
  }
 },
 "nbformat": 4,
 "nbformat_minor": 5
}
